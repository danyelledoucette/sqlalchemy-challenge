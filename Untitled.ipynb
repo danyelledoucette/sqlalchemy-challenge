{
 "cells": [
  {
   "cell_type": "code",
   "execution_count": 1,
   "metadata": {},
   "outputs": [],
   "source": [
    "import numpy as np\n",
    "import pandas as pandas\n",
    "import sqlalchemy\n",
    "from sqlalchemy.ext.automap import automap_base\n",
    "from sqlalchemy.orm import Session\n",
    "from sqlalchemy import create_engine\n",
    "\n",
    "from flask import Flask, jsonify\n",
    "\n",
    "import datetime as dt"
   ]
  },
  {
   "cell_type": "code",
   "execution_count": 2,
   "metadata": {},
   "outputs": [],
   "source": [
    "# create engine to hawaii.sqlite\n",
    "engine = create_engine(\"sqlite:///Resources/hawaii.sqlite\", echo=False)"
   ]
  },
  {
   "cell_type": "code",
   "execution_count": 3,
   "metadata": {},
   "outputs": [],
   "source": [
    "# reflect an existing database into a new model\n",
    "base=automap_base()\n",
    "# reflect the tables\n",
    "base.prepare(engine, reflect=True)"
   ]
  },
  {
   "cell_type": "code",
   "execution_count": 4,
   "metadata": {},
   "outputs": [
    {
     "data": {
      "text/plain": [
       "['measurement', 'station']"
      ]
     },
     "execution_count": 4,
     "metadata": {},
     "output_type": "execute_result"
    }
   ],
   "source": [
    "# View all of the classes that automap found\n",
    "base.classes.keys()"
   ]
  },
  {
   "cell_type": "code",
   "execution_count": 5,
   "metadata": {},
   "outputs": [],
   "source": [
    "# Save references to each table\n",
    "measurement = base.classes.measurement\n",
    "station = base.classes.station"
   ]
  },
  {
   "cell_type": "code",
   "execution_count": 6,
   "metadata": {},
   "outputs": [],
   "source": [
    "# Create our session (link) from Python to the DB\n",
    "session = Session(engine)"
   ]
  },
  {
   "cell_type": "code",
   "execution_count": 7,
   "metadata": {},
   "outputs": [
    {
     "name": "stdout",
     "output_type": "stream",
     "text": [
      "2010-01-01\n"
     ]
    }
   ],
   "source": [
    "# Query for start date\n",
    "start_date=session.query(measurement.date).order_by((measurement.date)).limit(1).all()\n",
    "print(start_date[0][0])\n"
   ]
  },
  {
   "cell_type": "code",
   "execution_count": 8,
   "metadata": {},
   "outputs": [
    {
     "name": "stdout",
     "output_type": "stream",
     "text": [
      "2017-08-23\n"
     ]
    }
   ],
   "source": [
    "# Query for end date\n",
    "end_date=session.query(measurement.date).order_by((measurement.date).desc()).limit(1).all()\n",
    "print(end_date[0][0])\n"
   ]
  },
  {
   "cell_type": "code",
   "execution_count": 9,
   "metadata": {},
   "outputs": [
    {
     "name": "stdout",
     "output_type": "stream",
     "text": [
      "2016-08-23\n"
     ]
    }
   ],
   "source": [
    "previous_year = (dt.datetime.strptime(end_date[0][0], '%Y-%m-%d') - dt.timedelta(days=365)).date()\n",
    "print(previous_year)"
   ]
  },
  {
   "cell_type": "code",
   "execution_count": 10,
   "metadata": {},
   "outputs": [],
   "source": [
    "# Flask setup\n",
    "app=Flask(__name__)"
   ]
  },
  {
   "cell_type": "code",
   "execution_count": 11,
   "metadata": {},
   "outputs": [],
   "source": [
    "# Flask routes"
   ]
  },
  {
   "cell_type": "code",
   "execution_count": 12,
   "metadata": {},
   "outputs": [],
   "source": [
    "@app.route(\"/api/v1.0/precipitation\")\n",
    "def precipitation():\n",
    "    print(\"Precipitation status: Good\")\n",
    "    results = session.query(measurement.date, measurement.prcp).filter(measurement.date >= previous_year)\\\n",
    "    .filter(measurement.station==station.station).all()\n",
    "    \n",
    "    total_prcp = []\n",
    "    for results in results:\n",
    "        row = {}\n",
    "        row[\"date\"]=results[0]\n",
    "        row[\"prcp\"]=results[1]\n",
    "        prcp_totals.append(row)\n",
    "        \n",
    "    return jsonify(total_prcp)"
   ]
  },
  {
   "cell_type": "code",
   "execution_count": 13,
   "metadata": {},
   "outputs": [],
   "source": [
    "@app.route(\"/api/v1.0/stations\")\n",
    "def station():\n",
    "    print(\"station status: OK\")\n",
    "    query_stations = session.query(station.name, station.station)\n",
    "    station_name = pd.read_sql(stations.statement, query_stations.session.bind)\n",
    "    \n",
    "    return jsonify(stations.to_dict())\n"
   ]
  },
  {
   "cell_type": "code",
   "execution_count": 14,
   "metadata": {},
   "outputs": [],
   "source": [
    "@app.route(\"/api/v1.0/tobs\")\n",
    "def tobs():\n",
    "    print(\"tobs status: OK\")\n",
    "    temp_results = session.query(measurement.date, measurement.tobs)\\\n",
    "    .filter(measurement.date >= previous_year)\\\n",
    "    .order_by(measurement.date).all()\n",
    "    tobs_totals = []\n",
    "    for results in temp_results:\n",
    "        row = {}\n",
    "        row[\"date\"]=results[0]\n",
    "        row[\"tobs\"]=results[1]\n",
    "        prcp_totals.append(row)\n",
    "        \n",
    "    return jsonify(total_prcp)"
   ]
  },
  {
   "cell_type": "code",
   "execution_count": 15,
   "metadata": {},
   "outputs": [],
   "source": [
    "@app.route(\"/api/v1.0/<start>\")\n",
    "def start_date(start):\n",
    "    print(\"start_date status:OK\")\n",
    "    beginning_date = dt.datetime.strptime(start, '%Y-%m-%d').date()\n",
    "    last_date_dd = (dt.datetime.strptime(end_date[0][0], '%Y-%m-%d')).date() \n",
    "    first_date_dd = (dt.datetime.strptime(start_date[0][0], '%Y-%m-%d')).date()\n",
    "\n",
    "    if beginning_date > last_date_dd or beginning_date < first_date_dd:\n",
    "        return(f\"Select date range between {start_date[0][0]} and {end_date[0][0]}\")\n",
    "\n",
    "    else:\n",
    "        start_min_max_temp = session.query(func.min(measurement.tobs), func.avg(measurement.tobs),\\\n",
    "                                           func.max(measurement.tobs)).filter(measurement.date >= beginning_date).all()\n",
    "        start_date_data = list(np.ravel(start_min_max_temp))\n",
    "        return jsonify(start_date_data)"
   ]
  },
  {
   "cell_type": "code",
   "execution_count": 16,
   "metadata": {},
   "outputs": [],
   "source": [
    "@app.route(\"/api/v1.0/<start>/<end>\")\n",
    "def ending_date(start,end):\n",
    "    print(\"start and end status:OK\")\n",
    "    beginning_date = dt.datetime.strptime(start, '%Y-%m-%d').date()\n",
    "    ending_date = dt.datetime.strptime(end, '%Y-%m-%d').date()\n",
    "    last_date_dd = (dt.datetime.strptime(end_date[0][0], '%Y-%m-%d')).date() \n",
    "    first_date_dd = (dt.datetime.strptime(start_date[0][0], '%Y-%m-%d')).date()\n",
    "    if beginning_date > last_date_dd or beginning_date < first_date_dd or ending_date > last_date_dd or\\\n",
    "    ending_date < first_date_dd:\n",
    "        return(f\"Select date range between {start_date[0][0]} and {end_date[0][0]}\")\n",
    "    else:\n",
    "        start_end_min_max_temp = session.query(func.min(measurement.tobs), func.avg(measurement.tobs),\\\n",
    "                                               func.max(measurement.tobs)).\\\n",
    "        filter(measurement.date >= start_date).filter(measurement.date <= end_date).all()\n",
    "        start_end_data = list(np.ravel(start_end_min_max_temp))\n",
    "        return jsonify(start_end_data)"
   ]
  },
  {
   "cell_type": "code",
   "execution_count": 17,
   "metadata": {},
   "outputs": [],
   "source": [
    "@app.route(\"/\")\n",
    "def welcome():\n",
    "    return (\n",
    "        f\"Welcome to the Hawaii weather API!<br/><br/>\"\n",
    "        f\"Available Routes:<br/>\"\n",
    "        f\"/api/v1.0/precipitation<br/>Returns a JSON representation of precipitation data for dates between {previous_year} and {end_date[0][0]}.<br/><br/>\"\n",
    "        f\"/api/v1.0/stations<br/>Returns a JSON list of weather stations.<br/><br/>\"\n",
    "        f\"/api/v1.0/tobs<br/>Returns a JSON list of the temperature observations (TOBS) for dates between {previous_year} and {end_date[0][0]}.<br/><br/>\"\n",
    "        f\"/api/v1.0/yourstartdate(yyyy-mm-dd)<br/>Returns a JSON list of the minimum temperature, average temperature, and max temperature for the dates from the given start-end range. <br/><br/>\"\n",
    "        f\"/api/v1.0/start_date(yyyy-mm-dd)/end_date(yyyy-mm-dd)<br/>Returns a JSON list of the minimum temperature, the average temperature, and the max temperature for the dates between the given start date and end date.<br/><br/>\"\n",
    "    )"
   ]
  },
  {
   "cell_type": "code",
   "execution_count": 20,
   "metadata": {},
   "outputs": [
    {
     "name": "stdout",
     "output_type": "stream",
     "text": [
      " * Serving Flask app \"__main__\" (lazy loading)\n",
      " * Environment: production\n",
      "   WARNING: This is a development server. Do not use it in a production deployment.\n",
      "   Use a production WSGI server instead.\n",
      " * Debug mode: off\n"
     ]
    },
    {
     "name": "stderr",
     "output_type": "stream",
     "text": [
      " * Running on http://127.0.0.1:5000/ (Press CTRL+C to quit)\n",
      "127.0.0.1 - - [28/Feb/2021 22:59:43] \"\u001b[37mGET / HTTP/1.1\u001b[0m\" 200 -\n"
     ]
    }
   ],
   "source": [
    "if __name__==\"__main__\":\n",
    "    app.run(debug=False)"
   ]
  },
  {
   "cell_type": "code",
   "execution_count": 21,
   "metadata": {},
   "outputs": [],
   "source": [
    "# Close Session\n",
    "session.close()"
   ]
  },
  {
   "cell_type": "code",
   "execution_count": null,
   "metadata": {},
   "outputs": [],
   "source": []
  }
 ],
 "metadata": {
  "kernelspec": {
   "display_name": "Python 3",
   "language": "python",
   "name": "python3"
  },
  "language_info": {
   "codemirror_mode": {
    "name": "ipython",
    "version": 3
   },
   "file_extension": ".py",
   "mimetype": "text/x-python",
   "name": "python",
   "nbconvert_exporter": "python",
   "pygments_lexer": "ipython3",
   "version": "3.8.5"
  }
 },
 "nbformat": 4,
 "nbformat_minor": 4
}
